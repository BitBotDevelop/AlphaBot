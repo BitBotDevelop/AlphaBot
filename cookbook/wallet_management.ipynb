{
 "cells": [
  {
   "cell_type": "markdown",
   "metadata": {},
   "source": [
    "# 钱包管理"
   ]
  },
  {
   "cell_type": "markdown",
   "metadata": {},
   "source": [
    "## 1. 通过助记词生成相应私钥"
   ]
  },
  {
   "cell_type": "code",
   "execution_count": 12,
   "metadata": {},
   "outputs": [
    {
     "name": "stdout",
     "output_type": "stream",
     "text": [
      "From Private key: ae5f676ba90282321e31c564d0fd3b958d598535c949c9cedf7dfaf2b635be69\n",
      "From Public key: 033c04a8e075fb5e9240538c140024c9661765249f7fab6a6491afb19cf85bb866\n",
      "From Address: tb1pfywwjgdmskq4gjc55mehzt8u6a29mjslwl5avdphfyvs0grtgwrs4c768e\n"
     ]
    }
   ],
   "source": [
    "from bitcoinutils.hdwallet import HDWallet\n",
    "from bitcoinutils.setup import setup\n",
    "\n",
    "setup(\"testnet\")\n",
    "\n",
    "\n",
    "path = \"m/86'/0'/0'/0/0\"\n",
    "hdw = HDWallet(mnemonic='dust orbit velvet struggle dizzy empty pistol nurse candy horror guide pink')\n",
    "# tb1pfywwjgdmskq4gjc55mehzt8u6a29mjslwl5avdphfyvs0grtgwrs4c768e\n",
    "\n",
    "hdw.from_path(path)\n",
    "\n",
    "internal_priv = hdw.get_private_key()\n",
    "print(\"From Private key:\", internal_priv.to_bytes().hex())\n",
    "internal_pub = internal_priv.get_public_key()\n",
    "print(\"From Public key:\", internal_pub.to_hex())\n",
    "internal_addr = internal_pub.get_address()\n",
    "print(\"From Address:\", internal_pub.get_taproot_address().to_string())\n"
   ]
  },
  {
   "cell_type": "markdown",
   "metadata": {},
   "source": [
    "## 2. 从私钥生成账号"
   ]
  },
  {
   "cell_type": "code",
   "execution_count": 13,
   "metadata": {},
   "outputs": [
    {
     "name": "stdout",
     "output_type": "stream",
     "text": [
      "From Private key: ae5f676ba90282321e31c564d0fd3b958d598535c949c9cedf7dfaf2b635be69\n",
      "From Public key: 033c04a8e075fb5e9240538c140024c9661765249f7fab6a6491afb19cf85bb866\n",
      "From Address: tb1pfywwjgdmskq4gjc55mehzt8u6a29mjslwl5avdphfyvs0grtgwrs4c768e\n"
     ]
    }
   ],
   "source": [
    "from bitcoinutils.keys import PrivateKey\n",
    "\n",
    "from bitcoinutils.setup import setup\n",
    "\n",
    "setup(\"testnet\")\n",
    "\n",
    "privkey = PrivateKey.from_bytes(bytes.fromhex(\"ae5f676ba90282321e31c564d0fd3b958d598535c949c9cedf7dfaf2b635be69\"))\n",
    "\n",
    "print(\"From Private key:\", privkey.to_bytes().hex())\n",
    "pubkey = privkey.get_public_key()\n",
    "print(\"From Public key:\", pubkey.to_hex())\n",
    "print(\"From Address:\", pubkey.get_taproot_address().to_string())"
   ]
  },
  {
   "cell_type": "markdown",
   "metadata": {},
   "source": [
    "## 3. 随机生成私钥"
   ]
  },
  {
   "cell_type": "code",
   "execution_count": 22,
   "metadata": {},
   "outputs": [],
   "source": [
    "from bitcoinutils.keys import  PrivateKey\n",
    "\n",
    "def generate_random_private_key():\n",
    "  \"\"\"\n",
    "  生成随机私钥\n",
    "  \"\"\"\n",
    "  priv = PrivateKey()\n",
    "  return priv.to_bytes().hex()"
   ]
  },
  {
   "cell_type": "code",
   "execution_count": 36,
   "metadata": {},
   "outputs": [
    {
     "name": "stdout",
     "output_type": "stream",
     "text": [
      "Private key: 0402f3980fc7e06d094fcd6c9f342f6bfbae807c008d4cad058f6fcd3f687843\n"
     ]
    }
   ],
   "source": [
    "from bitcoinutils.keys import PrivateKey\n",
    "\n",
    "\n",
    "# generate a random private key\n",
    "priv = generate_random_private_key()\n",
    "print(\"Private key:\", priv)\n"
   ]
  }
 ],
 "metadata": {
  "kernelspec": {
   "display_name": ".venv",
   "language": "python",
   "name": "python3"
  },
  "language_info": {
   "codemirror_mode": {
    "name": "ipython",
    "version": 3
   },
   "file_extension": ".py",
   "mimetype": "text/x-python",
   "name": "python",
   "nbconvert_exporter": "python",
   "pygments_lexer": "ipython3",
   "version": "3.10.11"
  }
 },
 "nbformat": 4,
 "nbformat_minor": 2
}
