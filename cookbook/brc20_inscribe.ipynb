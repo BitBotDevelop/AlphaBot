{
 "cells": [
  {
   "cell_type": "code",
   "execution_count": 29,
   "metadata": {},
   "outputs": [],
   "source": [
    "from bitcoinutils.keys import P2trAddress, PrivateKey\n",
    "from bitcoinutils.script import Script\n",
    "from bitcoinutils.utils import ControlBlock\n",
    "from bitcoinutils.transactions import Transaction, TxInput, TxOutput, TxWitnessInput\n",
    "from bitcoinutils.setup import setup\n",
    "import json\n",
    "import codecs\n",
    "import binascii\n",
    "\n",
    "\n",
    "def set_network(network: str = \"testnet\"):\n",
    "  setup(network)\n",
    "\n",
    "def coonvert_string_to_hex(content: str):\n",
    "  \"\"\"\n",
    "  将字符串转化为hex\n",
    "  \"\"\"\n",
    "  bt = codecs.encode(content, 'utf-8')\n",
    "  hex_string = binascii.hexlify(bt).decode('utf-8')\n",
    "  return hex_string\n",
    "\n",
    "def generate_random_private_key():\n",
    "  \"\"\"\n",
    "  生成随机私钥\n",
    "  \"\"\"\n",
    "  priv = PrivateKey()\n",
    "  return priv.to_bytes().hex()\n",
    "\n",
    "import json\n",
    "\n",
    "def generate_brc20_mint_inscribe_content(tick: str, amt: int):\n",
    "  content = {\n",
    "    \"p\": \"brc-20\",\n",
    "    \"op\": \"mint\",\n",
    "    \"tick\": tick,\n",
    "    \"amt\": str(amt),\n",
    "  }\n",
    "  return json.dumps(content)\n",
    "\n",
    "def generate_brc20_deploy_inscribe_content(tick: str, max_supply: int, limit: int):\n",
    "  content = {\n",
    "    \"p\": \"brc-20\",\n",
    "    \"op\": \"deploy\",\n",
    "    \"tick\": tick,\n",
    "    \"max\": str(max_supply),\n",
    "    \"lim\": str(limit),\n",
    "  }\n",
    "  return json.dumps(content)\n",
    "\n",
    "\n",
    "def get_bitmap_script_pub_key(private: str, block_nummber: int):\n",
    "  \"\"\"\n",
    "  生成铭文的scriptPubKey\n",
    "  \"\"\"\n",
    "  # 重复但为了解耦\n",
    "  privkey_tr_script = PrivateKey.from_bytes(bytes.fromhex(private))\n",
    "  pubkey_tr_script = privkey_tr_script.get_public_key()\n",
    "  tr_script_p2pk = Script([\n",
    "    pubkey_tr_script.to_x_only_hex(),\n",
    "    \"OP_CHECKSIG\",\n",
    "    \"OP_0\",\n",
    "    \"OP_IF\",\n",
    "    coonvert_string_to_hex(\"ord\"),\n",
    "    \"01\",\n",
    "    coonvert_string_to_hex(\"text/plain;charset=utf-8\"),\n",
    "    \"OP_0\",\n",
    "    coonvert_string_to_hex(str(block_nummber) + \".bitmap\"),\n",
    "    \"OP_ENDIF\",\n",
    "  ])\n",
    "  return tr_script_p2pk\n",
    "\n",
    "def get_bitmap_inscription_address(private: str, block_nummber: int):\n",
    "  \"\"\"\n",
    "  生成铭文的转入地址\n",
    "  \"\"\"\n",
    "  privkey_tr_script = PrivateKey.from_bytes(bytes.fromhex(private))\n",
    "  pubkey_tr_script = privkey_tr_script.get_public_key()\n",
    "  tr_script_p2pk = get_bitmap_script_pub_key(private, block_nummber)\n",
    "\n",
    "  # taproot script path address\n",
    "  from_address = pubkey_tr_script.get_taproot_address([[tr_script_p2pk]])\n",
    "  print(\"From Taproot script address\", from_address.to_string())\n",
    "  return from_address.to_string()\n",
    "\n",
    "def inscribe_after_tx(txid: str, vout: int, amount: int, private: str, block_nummber: int, receive_address: str):\n",
    "  \"\"\"\n",
    "  铭刻交易\n",
    "  \"\"\"\n",
    "  # taproot script is a simple P2PK with the following keys\n",
    "  privkey_tr_script = PrivateKey.from_bytes(bytes.fromhex(private))\n",
    "  pubkey_tr_script = privkey_tr_script.get_public_key()\n",
    "  tr_script_p2pk = get_bitmap_script_pub_key(private, block_nummber)\n",
    "\n",
    "  # taproot script path address\n",
    "  from_address = pubkey_tr_script.get_taproot_address([[tr_script_p2pk]])\n",
    "  print(\"From Taproot script address\", from_address.to_string())\n",
    "\n",
    "  # create transaction input from tx id of UTXO\n",
    "  tx_in = TxInput(txid, vout)\n",
    "\n",
    "  amounts = [amount]\n",
    "\n",
    "  scriptPubkey = from_address.to_script_pub_key()\n",
    "  utxos_scriptPubkeys = [scriptPubkey]\n",
    "  toAddress = P2trAddress(receive_address)\n",
    "\n",
    "  tx_out = TxOutput(546, toAddress.to_script_pub_key())\n",
    "  tx = Transaction([tx_in], [tx_out], has_segwit=True)\n",
    "\n",
    "  sig = privkey_tr_script.sign_taproot_input(\n",
    "      tx,\n",
    "      0,\n",
    "      utxos_scriptPubkeys,\n",
    "      amounts,\n",
    "      script_path=True,\n",
    "      tapleaf_script=tr_script_p2pk,\n",
    "      tweak=False,\n",
    "  )\n",
    "\n",
    "  # we spend a single script - no merkle path is required\n",
    "  control_block = ControlBlock(pubkey_tr_script)\n",
    "\n",
    "  tx.witnesses.append(\n",
    "      TxWitnessInput([sig, tr_script_p2pk.to_hex(), control_block.to_hex()])\n",
    "  )\n",
    "  # print raw signed transaction ready to be broadcasted\n",
    "  return [tx.serialize(), tx.get_vsize(), tx.get_txid()]\n",
    "\n",
    "def inscribe_and_send_after_tx(\n",
    "    txid: str,\n",
    "    vout: int,\n",
    "    amount: int,\n",
    "    fee: int,\n",
    "    private: str,\n",
    "    block_nummber: int,\n",
    "    receive_address: str,\n",
    "    send_address: str,\n",
    "  ):\n",
    "  # taproot script is a simple P2PK with the following keys\n",
    "  privkey_tr_script = PrivateKey.from_bytes(bytes.fromhex(private))\n",
    "  pubkey_tr_script = privkey_tr_script.get_public_key()\n",
    "  tr_script_p2pk = get_bitmap_script_pub_key(private, block_nummber)\n",
    "\n",
    "  # taproot script path address\n",
    "  from_address = pubkey_tr_script.get_taproot_address([[tr_script_p2pk]])\n",
    "  print(\"From Taproot script address\", from_address.to_string())\n",
    "\n",
    "  # create transaction input from tx id of UTXO\n",
    "  tx_in = TxInput(txid, vout)\n",
    "\n",
    "  amounts = [amount]\n",
    "\n",
    "  scriptPubkey = from_address.to_script_pub_key()\n",
    "  utxos_scriptPubkeys = [scriptPubkey]\n",
    "  toAddress = P2trAddress(receive_address)\n",
    "  refundAddress = P2trAddress(send_address)\n",
    "\n",
    "  base = 546\n",
    "  tx_out_list = []\n",
    "  if amount - base > 0:\n",
    "    tx_out_inscription = TxOutput(base, toAddress.to_script_pub_key())\n",
    "    tx_out_list.append(tx_out_inscription)\n",
    "  else:\n",
    "    tx_out_inscription = TxOutput(amount, toAddress.to_script_pub_key())\n",
    "    tx_out_list.append(tx_out_inscription)\n",
    "  if amount - base - fee > 0:\n",
    "    tx_out_refund = TxOutput(amount - fee - base, refundAddress.to_script_pub_key())\n",
    "    tx_out_list.append(tx_out_refund)\n",
    "\n",
    "  print(tx_out_list)\n",
    "  \n",
    "  tx = Transaction([tx_in], tx_out_list, has_segwit=True)\n",
    "  # sign taproot input\n",
    "  # to create the digest message to sign in taproot we need to\n",
    "  # pass all the utxos' scriptPubKeys, their amounts and taproot script\n",
    "  # we sign with the private key corresponding to the script - no keys\n",
    "  # tweaking required\n",
    "  sig = privkey_tr_script.sign_taproot_input(\n",
    "      tx,\n",
    "      0,\n",
    "      utxos_scriptPubkeys,\n",
    "      amounts,\n",
    "      script_path=True,\n",
    "      tapleaf_script=tr_script_p2pk,\n",
    "      tweak=False,\n",
    "  )\n",
    "\n",
    "  # we spend a single script - no merkle path is required\n",
    "  control_block = ControlBlock(pubkey_tr_script)\n",
    "\n",
    "  tx.witnesses.append(\n",
    "      TxWitnessInput([sig, tr_script_p2pk.to_hex(), control_block.to_hex()])\n",
    "  )\n",
    "  # print raw signed transaction ready to be broadcasted\n",
    "  return [tx.serialize(), tx.get_vsize(), tx.get_txid()]\n",
    "\n",
    "def refund_from_inscription_tx(\n",
    "    txid: str,\n",
    "    vout: int,\n",
    "    amount: int,\n",
    "    fee: int,\n",
    "    private: str,\n",
    "    block_nummber: int,\n",
    "    receive_address: str,\n",
    "):\n",
    "  privkey_tr_script = PrivateKey.from_bytes(bytes.fromhex(private))\n",
    "  pubkey_tr_script = privkey_tr_script.get_public_key()\n",
    "  tr_script_p2pk = get_bitmap_script_pub_key(private, block_nummber)\n",
    "\n",
    "  # taproot script path address\n",
    "  from_address = pubkey_tr_script.get_taproot_address([[tr_script_p2pk]])\n",
    "\n",
    "  # create transaction input from tx id of UTXO\n",
    "  tx_in = TxInput(txid, vout)\n",
    "\n",
    "  amounts = [amount]\n",
    "\n",
    "  scriptPubkey = from_address.to_script_pub_key()\n",
    "  utxos_scriptPubkeys = [scriptPubkey]\n",
    "  toAddress = P2trAddress(receive_address)\n",
    "\n",
    "  tx_out_list = []\n",
    "  tx_out_inscription = TxOutput(amount - fee, toAddress.to_script_pub_key())\n",
    "  tx_out_list.append(tx_out_inscription)\n",
    "\n",
    "  print(tx_out_list)\n",
    "  \n",
    "  tx = Transaction([tx_in], tx_out_list, has_segwit=True)\n",
    "\n",
    "\n",
    "  sig = privkey_tr_script.sign_taproot_input(\n",
    "        tx,\n",
    "        0,\n",
    "        utxos_scriptPubkeys,\n",
    "        amounts,\n",
    "        script_path=False,\n",
    "        tapleaf_scripts=[tr_script_p2pk],\n",
    "    )\n",
    "\n",
    "  tx.witnesses.append(TxWitnessInput([sig]))\n",
    "  # print raw signed transaction ready to be broadcasted\n",
    "  return [tx.serialize(), tx.get_vsize(), tx.get_txid()]\n",
    "\n",
    "\n"
   ]
  },
  {
   "cell_type": "code",
   "execution_count": 30,
   "metadata": {},
   "outputs": [],
   "source": [
    "set_network('testnet')"
   ]
  },
  {
   "cell_type": "code",
   "execution_count": 3,
   "metadata": {},
   "outputs": [
    {
     "name": "stdout",
     "output_type": "stream",
     "text": [
      "priv aa33408688ed3b5c3e66b44d0a65aa21fdf9d2b845bec51e58de593819a5766e\n"
     ]
    }
   ],
   "source": [
    "priv = generate_random_private_key()\n",
    "print(\"priv\", priv)"
   ]
  },
  {
   "cell_type": "code",
   "execution_count": 17,
   "metadata": {},
   "outputs": [
    {
     "name": "stdout",
     "output_type": "stream",
     "text": [
      "['c75b8966a90d0d7bd16cbb3d0222cf682a4aaff546f3196fab1375d77cdd14a9', 'OP_CHECKSIG', 'OP_0', 'OP_IF', '6f7264', '01', '746578742f706c61696e3b636861727365743d7574662d38', 'OP_0', '7b2270223a20226272632d3230222c20226f70223a20226d696e74222c20227469636b223a20226d696365222c2022616d74223a202231303030227d', 'OP_ENDIF']\n"
     ]
    }
   ],
   "source": [
    "\n",
    "\n",
    "def get_text_script_pub_key(private: str, content: str):\n",
    "  \"\"\"\n",
    "  生成铭文的scriptPubKey\n",
    "  \"\"\"\n",
    "  # 重复但为了解耦\n",
    "  privkey_tr_script = PrivateKey.from_bytes(bytes.fromhex(private))\n",
    "  pubkey_tr_script = privkey_tr_script.get_public_key()\n",
    "  tr_script_p2pk = Script([\n",
    "    pubkey_tr_script.to_x_only_hex(),\n",
    "    \"OP_CHECKSIG\",\n",
    "    \"OP_0\",\n",
    "    \"OP_IF\",\n",
    "    coonvert_string_to_hex(\"ord\"),\n",
    "    \"01\",\n",
    "    coonvert_string_to_hex(\"text/plain;charset=utf-8\"),\n",
    "    \"OP_0\",\n",
    "    coonvert_string_to_hex(content),\n",
    "    \"OP_ENDIF\",\n",
    "  ])\n",
    "  return tr_script_p2pk\n",
    "\n",
    "script_pubkey = get_text_script_pub_key(priv, generate_brc20_mint_inscribe_content(\"mice\", 1000))\n",
    "print(script_pubkey)"
   ]
  },
  {
   "cell_type": "code",
   "execution_count": 52,
   "metadata": {},
   "outputs": [
    {
     "name": "stdout",
     "output_type": "stream",
     "text": [
      "From Taproot script address tb1pahlzgcvd00etd4vszgqvd9rzwcqdpfsa23y7d7mq4l3472m6xtjq63ty6e\n",
      "address tb1pahlzgcvd00etd4vszgqvd9rzwcqdpfsa23y7d7mq4l3472m6xtjq63ty6e\n"
     ]
    }
   ],
   "source": [
    "def get_inscription_address(private: str, tr_script_p2pk: Script):\n",
    "  \"\"\"\n",
    "  生成铭文的转入地址\n",
    "  \"\"\"\n",
    "  privkey_tr_script = PrivateKey.from_bytes(bytes.fromhex(private))\n",
    "  pubkey_tr_script = privkey_tr_script.get_public_key()\n",
    "\n",
    "  # taproot script path address\n",
    "  from_address = pubkey_tr_script.get_taproot_address([[tr_script_p2pk]])\n",
    "  print(\"From Taproot script address\", from_address.to_string())\n",
    "  return from_address.to_string()\n",
    "\n",
    "address = get_inscription_address(priv, get_text_script_pub_key(priv, generate_brc20_deploy_inscribe_content(\"mice\", 210000000, 1000)))\n",
    "print(\"address\", address)"
   ]
  },
  {
   "cell_type": "code",
   "execution_count": 48,
   "metadata": {},
   "outputs": [
    {
     "name": "stdout",
     "output_type": "stream",
     "text": [
      "From Taproot script address tb1pahlzgcvd00etd4vszgqvd9rzwcqdpfsa23y7d7mq4l3472m6xtjq63ty6e\n",
      "address tb1pahlzgcvd00etd4vszgqvd9rzwcqdpfsa23y7d7mq4l3472m6xtjq63ty6e\n"
     ]
    }
   ],
   "source": [
    "address = get_brc20_deploy_inscription_address(priv, \"mice\", 210000000, 1000)\n",
    "print(\"address\", address)"
   ]
  },
  {
   "cell_type": "code",
   "execution_count": 19,
   "metadata": {},
   "outputs": [
    {
     "name": "stdout",
     "output_type": "stream",
     "text": [
      "From Taproot script address tb1prg5keay3tu7vkwj00kvjxz84flxrvfa4k9jj9tppks7at27yx0tqjjyexe\n",
      "address tb1prg5keay3tu7vkwj00kvjxz84flxrvfa4k9jj9tppks7at27yx0tqjjyexe\n"
     ]
    }
   ],
   "source": [
    "\n",
    "def get_brc20_mint_inscription_address(private: str, tick: str, amt: int):\n",
    "  \"\"\"\n",
    "  生成铭文的转入地址\n",
    "  \"\"\"\n",
    "  privkey_tr_script = PrivateKey.from_bytes(bytes.fromhex(private))\n",
    "  pubkey_tr_script = privkey_tr_script.get_public_key()\n",
    "  tr_script_p2pk = get_text_script_pub_key(priv, generate_brc20_inscribe_content(tick, amt))\n",
    "\n",
    "  # taproot script path address\n",
    "  from_address = pubkey_tr_script.get_taproot_address([[tr_script_p2pk]])\n",
    "  print(\"From Taproot script address\", from_address.to_string())\n",
    "  return from_address.to_string()\n",
    "\n",
    "address = get_brc20_mint_inscription_address(priv, \"mice\", 1000)\n",
    "print(\"address\", address)"
   ]
  },
  {
   "cell_type": "code",
   "execution_count": 33,
   "metadata": {},
   "outputs": [],
   "source": [
    "def inscribe_after_tx(txid: str, vout: int, amount: int, private: str, tr_script_p2pk: Script, receive_address: str):\n",
    "  \"\"\"\n",
    "  铭刻交易\n",
    "  \"\"\"\n",
    "  # taproot script is a simple P2PK with the following keys\n",
    "  privkey_tr_script = PrivateKey.from_bytes(bytes.fromhex(private))\n",
    "  pubkey_tr_script = privkey_tr_script.get_public_key()\n",
    "\n",
    "  # taproot script path address\n",
    "  from_address = pubkey_tr_script.get_taproot_address([[tr_script_p2pk]])\n",
    "  print(\"From Taproot script address\", from_address.to_string())\n",
    "\n",
    "  # create transaction input from tx id of UTXO\n",
    "  tx_in = TxInput(txid, vout)\n",
    "\n",
    "  amounts = [amount]\n",
    "\n",
    "  scriptPubkey = from_address.to_script_pub_key()\n",
    "  utxos_scriptPubkeys = [scriptPubkey]\n",
    "  toAddress = P2trAddress(receive_address)\n",
    "\n",
    "  tx_out = TxOutput(546, toAddress.to_script_pub_key())\n",
    "  tx = Transaction([tx_in], [tx_out], has_segwit=True)\n",
    "\n",
    "  sig = privkey_tr_script.sign_taproot_input(\n",
    "      tx,\n",
    "      0,\n",
    "      utxos_scriptPubkeys,\n",
    "      amounts,\n",
    "      script_path=True,\n",
    "      tapleaf_script=tr_script_p2pk,\n",
    "      tweak=False,\n",
    "  )\n",
    "\n",
    "  # we spend a single script - no merkle path is required\n",
    "  control_block = ControlBlock(pubkey_tr_script)\n",
    "\n",
    "  tx.witnesses.append(\n",
    "      TxWitnessInput([sig, tr_script_p2pk.to_hex(), control_block.to_hex()])\n",
    "  )\n",
    "  # print raw signed transaction ready to be broadcasted\n",
    "  return [tx.serialize(), tx.get_vsize(), tx.get_txid()]"
   ]
  },
  {
   "cell_type": "code",
   "execution_count": 22,
   "metadata": {},
   "outputs": [
    {
     "name": "stdout",
     "output_type": "stream",
     "text": [
      "From Taproot script address tb1prg5keay3tu7vkwj00kvjxz84flxrvfa4k9jj9tppks7at27yx0tqjjyexe\n"
     ]
    }
   ],
   "source": [
    "\n",
    "[txhex, vsize, txid] = inscribe_after_tx('4f1c1ffe9135f95027852eb766140bbfdb76051f202de58404504e09340f31e1', 0, 2000, priv, \"mice\", 1000, \"tb1pfywwjgdmskq4gjc55mehzt8u6a29mjslwl5avdphfyvs0grtgwrs4c768e\")"
   ]
  },
  {
   "cell_type": "code",
   "execution_count": 25,
   "metadata": {},
   "outputs": [],
   "source": [
    "import requests\n",
    "\n",
    "def broadcast_tx_v2(tx_hex, network=\"testnet\"):\n",
    "    \"\"\"\n",
    "        广播交易到链上, 使用mempool\n",
    "    \"\"\"\n",
    "    net = \"\"\n",
    "    if network == \"testnet\":\n",
    "        net = \"testnet/\"\n",
    "    # 设置基本的 URL\n",
    "    base_url = \"https://mempool.space/\" + net + \"api/tx\"\n",
    "\n",
    "    try:\n",
    "        response = requests.post(base_url, tx_hex)\n",
    "        print(\"response:\", response)\n",
    "        return response\n",
    "    except Exception as e:\n",
    "        print(\"call blockchain api to broadcast tx error, message:\", e)\n",
    "        return None"
   ]
  },
  {
   "cell_type": "code",
   "execution_count": 27,
   "metadata": {},
   "outputs": [
    {
     "name": "stdout",
     "output_type": "stream",
     "text": [
      "response: <Response [200]>\n"
     ]
    }
   ],
   "source": [
    "response = broadcast_tx_v2(txhex)"
   ]
  },
  {
   "cell_type": "code",
   "execution_count": 28,
   "metadata": {},
   "outputs": [
    {
     "data": {
      "text/plain": [
       "'113acd85bd18a32a2f6c6d0570611bd27115b2bd04c6a0ac28d8bc17f74a1fbf'"
      ]
     },
     "execution_count": 28,
     "metadata": {},
     "output_type": "execute_result"
    }
   ],
   "source": [
    "response.text"
   ]
  },
  {
   "cell_type": "code",
   "execution_count": 56,
   "metadata": {},
   "outputs": [
    {
     "name": "stdout",
     "output_type": "stream",
     "text": [
      "From Taproot script address tb1pahlzgcvd00etd4vszgqvd9rzwcqdpfsa23y7d7mq4l3472m6xtjq63ty6e\n",
      "response: <Response [200]>\n",
      "333e74c5c906437ba8f299c6e45240fc9b06a8f95211bfc282014d950853ccff\n"
     ]
    }
   ],
   "source": [
    "tx = {\n",
    "  \"txid\": \"e2edd441b84db52987d487d0f2bcb2aa3957264e77f63aaeb26de7a1b8327d61\",\n",
    "  \"vout\": 0,\n",
    "  \"amount\": 1000,\n",
    "}\n",
    "\n",
    "[txhex, vsize, txid] = inscribe_after_tx(\n",
    "  tx['txid'],\n",
    "  tx['vout'],\n",
    "  tx['amount'],\n",
    "  priv,\n",
    "  get_text_script_pub_key(priv, generate_brc20_deploy_inscribe_content(\"mice\", 210000000, 1000)),\n",
    "  \"tb1pfywwjgdmskq4gjc55mehzt8u6a29mjslwl5avdphfyvs0grtgwrs4c768e\"\n",
    ")\n",
    "response = broadcast_tx_v2(txhex)\n",
    "'tb1p3wxap6l3wpfktd05agcsvu3trwpmd2dz67urhwydk6dtke2c0fdq9lu9lz'\n",
    "print(response.text)"
   ]
  },
  {
   "cell_type": "code",
   "execution_count": 58,
   "metadata": {},
   "outputs": [
    {
     "name": "stdout",
     "output_type": "stream",
     "text": [
      "From Taproot script address tb1prg5keay3tu7vkwj00kvjxz84flxrvfa4k9jj9tppks7at27yx0tqjjyexe\n",
      "response: <Response [200]>\n",
      "a4199b90ca68d32aa759ed30e2324e003863707b03f3aa5202b18c13060d36e3\n"
     ]
    }
   ],
   "source": [
    "tx = {\n",
    "  \"txid\": \"34ceb094d6af037e4dd2b2142377d5e05a6af05379203faecffd23653286ac6a\",\n",
    "  \"vout\": 0,\n",
    "  \"amount\": 1000,\n",
    "}\n",
    "\n",
    "[txhex, vsize, txid] = inscribe_after_tx(\n",
    "  tx['txid'],\n",
    "  tx['vout'],\n",
    "  tx['amount'],\n",
    "  priv,\n",
    "  get_text_script_pub_key(priv, generate_brc20_mint_inscribe_content(\"mice\", 1000)),\n",
    "  \"tb1pfywwjgdmskq4gjc55mehzt8u6a29mjslwl5avdphfyvs0grtgwrs4c768e\"\n",
    ")\n",
    "response = broadcast_tx_v2(txhex)\n",
    "'tb1p3wxap6l3wpfktd05agcsvu3trwpmd2dz67urhwydk6dtke2c0fdq9lu9lz'\n",
    "print(response.text)"
   ]
  },
  {
   "cell_type": "code",
   "execution_count": 35,
   "metadata": {},
   "outputs": [
    {
     "name": "stdout",
     "output_type": "stream",
     "text": [
      "[{'amount': 859, 'script_pubkey': ['OP_1', 'ee0cd71964e46f53b90a447d769d0affa731e6c1b7dc8332a8fcd8687cfed49a']}]\n",
      "response: <Response [200]>\n",
      "a369c441dbd8fdcdc0898c23a84987191d5d4755ca37c7d6ce7b964f18a10325\n"
     ]
    }
   ],
   "source": [
    "def refund_from_inscription_tx(\n",
    "    txid: str,\n",
    "    vout: int,\n",
    "    amount: int,\n",
    "    fee: int,\n",
    "    private: str,\n",
    "    tr_script_p2pk: Script,\n",
    "    receive_address: str,\n",
    "):\n",
    "  privkey_tr_script = PrivateKey.from_bytes(bytes.fromhex(private))\n",
    "  pubkey_tr_script = privkey_tr_script.get_public_key()\n",
    "\n",
    "  # taproot script path address\n",
    "  from_address = pubkey_tr_script.get_taproot_address([[tr_script_p2pk]])\n",
    "\n",
    "  # create transaction input from tx id of UTXO\n",
    "  tx_in = TxInput(txid, vout)\n",
    "\n",
    "  amounts = [amount]\n",
    "\n",
    "  scriptPubkey = from_address.to_script_pub_key()\n",
    "  utxos_scriptPubkeys = [scriptPubkey]\n",
    "  toAddress = P2trAddress(receive_address)\n",
    "\n",
    "  tx_out_list = []\n",
    "  tx_out_inscription = TxOutput(amount - fee, toAddress.to_script_pub_key())\n",
    "  tx_out_list.append(tx_out_inscription)\n",
    "\n",
    "  print(tx_out_list)\n",
    "  \n",
    "  tx = Transaction([tx_in], tx_out_list, has_segwit=True)\n",
    "\n",
    "\n",
    "  sig = privkey_tr_script.sign_taproot_input(\n",
    "        tx,\n",
    "        0,\n",
    "        utxos_scriptPubkeys,\n",
    "        amounts,\n",
    "        script_path=False,\n",
    "        tapleaf_scripts=[tr_script_p2pk],\n",
    "    )\n",
    "\n",
    "  tx.witnesses.append(TxWitnessInput([sig]))\n",
    "  # print raw signed transaction ready to be broadcasted\n",
    "  return [tx.serialize(), tx.get_vsize(), tx.get_txid()]\n",
    "\n",
    "[txhex, vsize, txid] = refund_from_inscription_tx(\n",
    "  \"cd783cf64b209e4bb5952148db6b17d25ff77c7f4f368dd5443afc752a279cb6\",\n",
    "  0,\n",
    "  1000,\n",
    "  141,\n",
    "  priv,\n",
    "  get_text_script_pub_key(priv, generate_brc20_mint_inscribe_content(\"mice\", 1000)),\n",
    "  \"tb1pacxdwxtyu3h48wg2g37hd8g2l7nnrekpklwgxv4glnvxsl876jdqa4chp3\"\n",
    ")\n",
    "\n",
    "response = broadcast_tx_v2(txhex)\n",
    "print(response.text)\n"
   ]
  },
  {
   "cell_type": "code",
   "execution_count": 44,
   "metadata": {},
   "outputs": [
    {
     "name": "stdout",
     "output_type": "stream",
     "text": [
      "[{'amount': 1459, 'script_pubkey': ['OP_1', 'ee0cd71964e46f53b90a447d769d0affa731e6c1b7dc8332a8fcd8687cfed49a']}]\n",
      "response: <Response [200]>\n",
      "7485c872c1dbe75d024865a98d1cb9617993415a58b7efdef02dc73a11e19da9\n"
     ]
    }
   ],
   "source": [
    "tx = {\n",
    "  \"txid\": \"a64663743a0932aa30ccb49613881d5f59ac8734e8780ee3fcf73126e2645e63\",\n",
    "  \"vout\": 0,\n",
    "  \"amount\": 1600,\n",
    "}\n",
    "\n",
    "[txhex, vsize, txid] = refund_from_inscription_tx(\n",
    "  tx[\"txid\"],\n",
    "  tx[\"vout\"],\n",
    "  tx[\"amount\"],\n",
    "  141,\n",
    "  priv,\n",
    "  get_text_script_pub_key(priv, generate_brc20_deploy_inscribe_content(\"mice\", 210000000, 1000)),\n",
    "  \"tb1pacxdwxtyu3h48wg2g37hd8g2l7nnrekpklwgxv4glnvxsl876jdqa4chp3\"\n",
    ")\n",
    "\n",
    "response = broadcast_tx_v2(txhex)\n",
    "print(response.text)"
   ]
  },
  {
   "cell_type": "markdown",
   "metadata": {},
   "source": []
  },
  {
   "cell_type": "code",
   "execution_count": 1,
   "metadata": {},
   "outputs": [],
   "source": [
    "import os\n",
    "import sys\n",
    "\n",
    "# 引入本地模块\n",
    "# 获得父目录路径\n",
    "sys.path.append(os.path.abspath(os.path.dirname(os.getcwd())))"
   ]
  },
  {
   "cell_type": "code",
   "execution_count": 2,
   "metadata": {},
   "outputs": [
    {
     "name": "stdout",
     "output_type": "stream",
     "text": [
      "[{'txid': '7ca44b3ace26c2894e84cbb4985d8bd7105f27eb587e540e30cd0844fd6e5244', 'version': 2, 'locktime': 0, 'vin': [{'txid': '9edd046a9a915b8764724acb2454ec57431a480a3d86ec28b80a5a5ffe52f11a', 'vout': 1, 'prevout': {'scriptpubkey': '5120ee0cd71964e46f53b90a447d769d0affa731e6c1b7dc8332a8fcd8687cfed49a', 'scriptpubkey_asm': 'OP_PUSHNUM_1 OP_PUSHBYTES_32 ee0cd71964e46f53b90a447d769d0affa731e6c1b7dc8332a8fcd8687cfed49a', 'scriptpubkey_type': 'v1_p2tr', 'scriptpubkey_address': 'tb1pacxdwxtyu3h48wg2g37hd8g2l7nnrekpklwgxv4glnvxsl876jdqa4chp3', 'value': 627}, 'scriptsig': '', 'scriptsig_asm': '', 'witness': ['e1bc420ba0ec4a362fb1343c9058a46bcb16efc34b5b424755dbe1a2cf9f21061fbb654b5cb6c6df060ae80128bca3bda5f1893f884d5acaade91bfde6030aef'], 'is_coinbase': False, 'sequence': 4294967295}, {'txid': 'a64663743a0932aa30ccb49613881d5f59ac8734e8780ee3fcf73126e2645e63', 'vout': 1, 'prevout': {'scriptpubkey': '5120ee0cd71964e46f53b90a447d769d0affa731e6c1b7dc8332a8fcd8687cfed49a', 'scriptpubkey_asm': 'OP_PUSHNUM_1 OP_PUSHBYTES_32 ee0cd71964e46f53b90a447d769d0affa731e6c1b7dc8332a8fcd8687cfed49a', 'scriptpubkey_type': 'v1_p2tr', 'scriptpubkey_address': 'tb1pacxdwxtyu3h48wg2g37hd8g2l7nnrekpklwgxv4glnvxsl876jdqa4chp3', 'value': 612}, 'scriptsig': '', 'scriptsig_asm': '', 'witness': ['6b2800e8eab9e7fb5098a7532cdc690f37575b2932d0d99b044edc670ae3b5e4bd798169b1c7d53f8d969d213054dcc26622456d0ccb0e7308910ff4c255ac7e'], 'is_coinbase': False, 'sequence': 4294967295}], 'vout': [{'scriptpubkey': '5120a2b267943acce3810de387a13a01427517ae67b032d934c2e9cab2955d46a5ae', 'scriptpubkey_asm': 'OP_PUSHNUM_1 OP_PUSHBYTES_32 a2b267943acce3810de387a13a01427517ae67b032d934c2e9cab2955d46a5ae', 'scriptpubkey_type': 'v1_p2tr', 'scriptpubkey_address': 'tb1p52ex09p6en3czr0rs7sn5q2zw5t6ueasxtvnfshfe2ef2h2x5khqh2h5qm', 'value': 1000}], 'size': 269, 'weight': 674, 'sigops': 0, 'fee': 239, 'status': {'confirmed': True, 'block_height': 2540778, 'block_hash': '0000000000001cfe6d480bb24de189b547a7b60fb5f08b585f8e2a6478844dac', 'block_time': 1701163456}}]\n",
      "['7ca44b3ace26c2894e84cbb4985d8bd7105f27eb587e540e30cd0844fd6e5244', 0, 1000]\n"
     ]
    }
   ],
   "source": [
    "from client.blockchain_client import address_received_money_in_this_tx\n",
    "\n",
    "result = await address_received_money_in_this_tx(\"tb1p52ex09p6en3czr0rs7sn5q2zw5t6ueasxtvnfshfe2ef2h2x5khqh2h5qm\")\n",
    "print(result)"
   ]
  },
  {
   "cell_type": "code",
   "execution_count": 2,
   "metadata": {},
   "outputs": [
    {
     "name": "stdout",
     "output_type": "stream",
     "text": [
      "https://mempool.space/testnet/api/address/tb1p52ex09p6en3czr0rs7sn5q2zw5t6ueasxtvnfshfe2ef2h2x5khqh2h5qm\n",
      "response: {\"address\":\"tb1p52ex09p6en3czr0rs7sn5q2zw5t6ueasxtvnfshfe2ef2h2x5khqh2h5qm\",\"chain_stats\":{\"funded_txo_count\":1,\"funded_txo_sum\":1000,\"spent_txo_count\":0,\"spent_txo_sum\":0,\"tx_count\":1},\"mempool_stats\":{\"funded_txo_count\":0,\"funded_txo_sum\":0,\"spent_txo_count\":0,\"spent_txo_sum\":0,\"tx_count\":0}}\n",
      "True\n"
     ]
    }
   ],
   "source": [
    "from client.blockchain_client import address_once_had_money\n",
    "\n",
    "result = await address_once_had_money(\"tb1p52ex09p6en3czr0rs7sn5q2zw5t6ueasxtvnfshfe2ef2h2x5khqh2h5qm\", network=\"testnet\")\n",
    "print(result)"
   ]
  }
 ],
 "metadata": {
  "kernelspec": {
   "display_name": ".venv",
   "language": "python",
   "name": "python3"
  },
  "language_info": {
   "codemirror_mode": {
    "name": "ipython",
    "version": 3
   },
   "file_extension": ".py",
   "mimetype": "text/x-python",
   "name": "python",
   "nbconvert_exporter": "python",
   "pygments_lexer": "ipython3",
   "version": "3.10.11"
  }
 },
 "nbformat": 4,
 "nbformat_minor": 2
}
