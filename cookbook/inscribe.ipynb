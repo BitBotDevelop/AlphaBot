{
 "cells": [
  {
   "cell_type": "code",
   "execution_count": 1,
   "metadata": {},
   "outputs": [],
   "source": [
    "import os\n",
    "import sys\n",
    "\n",
    "# 引入本地模块\n",
    "# 获得父目录路径\n",
    "sys.path.append(os.path.abspath(os.path.dirname(os.getcwd())))"
   ]
  },
  {
   "cell_type": "markdown",
   "metadata": {},
   "source": [
    "# 一般步骤"
   ]
  },
  {
   "cell_type": "markdown",
   "metadata": {},
   "source": [
    "1. 生成随机私钥（记得这个私钥存下来）"
   ]
  },
  {
   "cell_type": "code",
   "execution_count": 12,
   "metadata": {},
   "outputs": [
    {
     "name": "stdout",
     "output_type": "stream",
     "text": [
      "483d7ad79fead399d6097bc82888681297ab453cf75e18e0d36a1b3673ca249e\n"
     ]
    }
   ],
   "source": [
    "from common.inscribe import generate_random_private_key, set_network\n",
    "\n",
    "set_network('testnet')\n",
    "\n",
    "priv = generate_random_private_key()\n",
    "print(priv)\n"
   ]
  },
  {
   "cell_type": "code",
   "execution_count": 2,
   "metadata": {},
   "outputs": [],
   "source": [
    "priv = \"483d7ad79fead399d6097bc82888681297ab453cf75e18e0d36a1b3673ca249e\""
   ]
  },
  {
   "cell_type": "markdown",
   "metadata": {},
   "source": [
    "2. 生成铭刻地址"
   ]
  },
  {
   "cell_type": "code",
   "execution_count": 4,
   "metadata": {},
   "outputs": [
    {
     "name": "stdout",
     "output_type": "stream",
     "text": [
      "From Taproot script address tb1px336mqve34j59232ghejk8cy436as03lap9kx5xgrwwpg3h8guasn4dwfd\n"
     ]
    }
   ],
   "source": [
    "from common.inscribe import get_bitmap_inscription_address\n",
    "from bitcoinutils.keys import PrivateKey\n",
    "from bitcoinutils.keys import PrivateKey\n",
    "\n",
    "privkey_tr_script = PrivateKey.from_bytes(bytes.fromhex(priv))\n",
    "pubkey_tr_script = privkey_tr_script.get_public_key()\n",
    "\n",
    "# print(priv)\n",
    "address = get_bitmap_inscription_address(priv, 2540170)\n",
    "# print(address)"
   ]
  },
  {
   "cell_type": "markdown",
   "metadata": {},
   "source": [
    "3. 向铭刻地址转账\n",
    "   \n",
    "https://mempool.space/testnet/tx/06f2b7e9e9556b827d4dd3a515010d9f066b8f1d9eacc2a8af9493a47cd3e8b3"
   ]
  },
  {
   "cell_type": "markdown",
   "metadata": {},
   "source": [
    "4. 铭刻铭文"
   ]
  },
  {
   "cell_type": "code",
   "execution_count": 5,
   "metadata": {},
   "outputs": [
    {
     "name": "stdout",
     "output_type": "stream",
     "text": [
      "From Taproot script address tb1px336mqve34j59232ghejk8cy436as03lap9kx5xgrwwpg3h8guasn4dwfd\n",
      "\n",
      "Raw transaction:\n",
      "02000000000101b3e8d37ca49394afa8c2ac9e1d8f6b069f0d0115a5d34d7d826b55e9e9b7f2060000000000ffffffff012202000000000000225120491ce921bb8581544b14a6f3712cfcd7545dca1f77e9d63437491907a06b438700000000\n",
      "\n",
      "txid: d5d0beafb36f8df296bec42274f09a8bb90e1033df843b0bdef34e2f3d044948\n",
      "\n",
      "txwid: fc50b5e62e6d048dbc479072debc8d2356d1b84eb6a4daf4289f023005ae0ef3\n",
      "\n",
      "Raw signed transaction:\n",
      "02000000000101b3e8d37ca49394afa8c2ac9e1d8f6b069f0d0115a5d34d7d826b55e9e9b7f2060000000000ffffffff012202000000000000225120491ce921bb8581544b14a6f3712cfcd7545dca1f77e9d63437491907a06b43870340985fd73223ec59e9353a3b203c6bab9a3a386c3498aedd1ddfe9189c8a750493459463aa72d18c3f3798ab9c5b5d9bf598609fa42534a552ae799533630f19095420a0a5facd1bab3d71fdec1506e1e5f96f8097212361968cef3adab30f2a26f3baac0063036f7264010118746578742f706c61696e3b636861727365743d7574662d38000e323534303137302e6269746d61706821c0a0a5facd1bab3d71fdec1506e1e5f96f8097212361968cef3adab30f2a26f3ba00000000\n",
      "\n",
      "TxId: d5d0beafb36f8df296bec42274f09a8bb90e1033df843b0bdef34e2f3d044948\n",
      "\n",
      "TxwId: 40e40f96f9f794c9b2571b8f1295384d2de858478466d92403043585973b637a\n",
      "\n",
      "Size: 281\n",
      "\n",
      "vSize: 141\n",
      "02000000000101b3e8d37ca49394afa8c2ac9e1d8f6b069f0d0115a5d34d7d826b55e9e9b7f2060000000000ffffffff012202000000000000225120491ce921bb8581544b14a6f3712cfcd7545dca1f77e9d63437491907a06b43870340985fd73223ec59e9353a3b203c6bab9a3a386c3498aedd1ddfe9189c8a750493459463aa72d18c3f3798ab9c5b5d9bf598609fa42534a552ae799533630f19095420a0a5facd1bab3d71fdec1506e1e5f96f8097212361968cef3adab30f2a26f3baac0063036f7264010118746578742f706c61696e3b636861727365743d7574662d38000e323534303137302e6269746d61706821c0a0a5facd1bab3d71fdec1506e1e5f96f8097212361968cef3adab30f2a26f3ba00000000\n",
      "141\n"
     ]
    }
   ],
   "source": [
    "from common.inscribe import inscribe_after_tx\n",
    "\n",
    "[tx_hex, vsize ] = inscribe_after_tx(\n",
    "  \"06f2b7e9e9556b827d4dd3a515010d9f066b8f1d9eacc2a8af9493a47cd3e8b3\",\n",
    "  0,\n",
    "  1000,\n",
    "  priv,\n",
    "  2540170,\n",
    "  'tb1pfywwjgdmskq4gjc55mehzt8u6a29mjslwl5avdphfyvs0grtgwrs4c768e',\n",
    ")\n",
    "\n",
    "print(tx_hex)\n",
    "print(vsize)"
   ]
  },
  {
   "cell_type": "code",
   "execution_count": 5,
   "metadata": {},
   "outputs": [
    {
     "name": "stdout",
     "output_type": "stream",
     "text": [
      "response: <Response [200]>\n",
      "d5d0beafb36f8df296bec42274f09a8bb90e1033df843b0bdef34e2f3d044948\n"
     ]
    }
   ],
   "source": [
    "from client.blockchain_client import broadcast_tx\n",
    "\n",
    "result = broadcast_tx('02000000000101b3e8d37ca49394afa8c2ac9e1d8f6b069f0d0115a5d34d7d826b55e9e9b7f2060000000000ffffffff012202000000000000225120491ce921bb8581544b14a6f3712cfcd7545dca1f77e9d63437491907a06b43870340985fd73223ec59e9353a3b203c6bab9a3a386c3498aedd1ddfe9189c8a750493459463aa72d18c3f3798ab9c5b5d9bf598609fa42534a552ae799533630f19095420a0a5facd1bab3d71fdec1506e1e5f96f8097212361968cef3adab30f2a26f3baac0063036f7264010118746578742f706c61696e3b636861727365743d7574662d38000e323534303137302e6269746d61706821c0a0a5facd1bab3d71fdec1506e1e5f96f8097212361968cef3adab30f2a26f3ba00000000')\n",
    "print(result.status_code)\n",
    "print(result.text)\n"
   ]
  },
  {
   "cell_type": "code",
   "execution_count": 4,
   "metadata": {},
   "outputs": [
    {
     "data": {
      "text/plain": [
       "200"
      ]
     },
     "execution_count": 4,
     "metadata": {},
     "output_type": "execute_result"
    }
   ],
   "source": [
    "result.status_code"
   ]
  }
 ],
 "metadata": {
  "kernelspec": {
   "display_name": ".venv",
   "language": "python",
   "name": "python3"
  },
  "language_info": {
   "codemirror_mode": {
    "name": "ipython",
    "version": 3
   },
   "file_extension": ".py",
   "mimetype": "text/x-python",
   "name": "python",
   "nbconvert_exporter": "python",
   "pygments_lexer": "ipython3",
   "version": "3.10.11"
  }
 },
 "nbformat": 4,
 "nbformat_minor": 2
}
